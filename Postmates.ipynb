{
 "cells": [
  {
   "cell_type": "code",
   "execution_count": 2,
   "metadata": {},
   "outputs": [],
   "source": [
    "import pandas as pd\n",
    "import matplotlib.pyplot as plt\n",
    "# import seaborn as sns\n",
    "from datetime import datetime\n",
    "from datetime import timedelta  \n",
    "import time\n",
    "from uszipcode import SearchEngine\n",
    "from geopy.distance import geodesic\n",
    "%matplotlib inline  "
   ]
  },
  {
   "cell_type": "code",
   "execution_count": 3,
   "metadata": {},
   "outputs": [],
   "source": [
    "df = pd.read_csv('analyze_me.csv')"
   ]
  },
  {
   "cell_type": "code",
   "execution_count": 4,
   "metadata": {
    "scrolled": true
   },
   "outputs": [
    {
     "data": {
      "text/plain": [
       "(5983, 18)"
      ]
     },
     "execution_count": 4,
     "metadata": {},
     "output_type": "execute_result"
    }
   ],
   "source": [
    "df.shape"
   ]
  },
  {
   "cell_type": "code",
   "execution_count": 5,
   "metadata": {},
   "outputs": [
    {
     "data": {
      "text/html": [
       "<div>\n",
       "<style scoped>\n",
       "    .dataframe tbody tr th:only-of-type {\n",
       "        vertical-align: middle;\n",
       "    }\n",
       "\n",
       "    .dataframe tbody tr th {\n",
       "        vertical-align: top;\n",
       "    }\n",
       "\n",
       "    .dataframe thead th {\n",
       "        text-align: right;\n",
       "    }\n",
       "</style>\n",
       "<table border=\"1\" class=\"dataframe\">\n",
       "  <thead>\n",
       "    <tr style=\"text-align: right;\">\n",
       "      <th></th>\n",
       "      <th>delivery_id</th>\n",
       "      <th>customer_id</th>\n",
       "      <th>jumpman_id</th>\n",
       "      <th>vehicle_type</th>\n",
       "      <th>pickup_place</th>\n",
       "      <th>place_category</th>\n",
       "      <th>item_name</th>\n",
       "      <th>item_quantity</th>\n",
       "      <th>item_category_name</th>\n",
       "      <th>how_long_it_took_to_order</th>\n",
       "      <th>pickup_lat</th>\n",
       "      <th>pickup_lon</th>\n",
       "      <th>dropoff_lat</th>\n",
       "      <th>dropoff_lon</th>\n",
       "      <th>when_the_delivery_started</th>\n",
       "      <th>when_the_Jumpman_arrived_at_pickup</th>\n",
       "      <th>when_the_Jumpman_left_pickup</th>\n",
       "      <th>when_the_Jumpman_arrived_at_dropoff</th>\n",
       "    </tr>\n",
       "  </thead>\n",
       "  <tbody>\n",
       "    <tr>\n",
       "      <th>0</th>\n",
       "      <td>1457973</td>\n",
       "      <td>327168</td>\n",
       "      <td>162381</td>\n",
       "      <td>van</td>\n",
       "      <td>Melt Shop</td>\n",
       "      <td>American</td>\n",
       "      <td>Lemonade</td>\n",
       "      <td>1.0</td>\n",
       "      <td>Beverages</td>\n",
       "      <td>00:19:58.582052</td>\n",
       "      <td>40.744607</td>\n",
       "      <td>-73.990742</td>\n",
       "      <td>40.752073</td>\n",
       "      <td>-73.985370</td>\n",
       "      <td>2014-10-26 13:51:59.898924</td>\n",
       "      <td>NaN</td>\n",
       "      <td>NaN</td>\n",
       "      <td>2014-10-26 14:52:06.313088</td>\n",
       "    </tr>\n",
       "    <tr>\n",
       "      <th>1</th>\n",
       "      <td>1377056</td>\n",
       "      <td>64452</td>\n",
       "      <td>104533</td>\n",
       "      <td>bicycle</td>\n",
       "      <td>Prince Street Pizza</td>\n",
       "      <td>Pizza</td>\n",
       "      <td>Neapolitan Rice Balls</td>\n",
       "      <td>3.0</td>\n",
       "      <td>Munchables</td>\n",
       "      <td>00:25:09.107093</td>\n",
       "      <td>40.723080</td>\n",
       "      <td>-73.994615</td>\n",
       "      <td>40.719722</td>\n",
       "      <td>-73.991858</td>\n",
       "      <td>2014-10-16 21:58:58.65491</td>\n",
       "      <td>2014-10-16 22:26:02.120931</td>\n",
       "      <td>2014-10-16 22:48:23.091253</td>\n",
       "      <td>2014-10-16 22:59:22.948873</td>\n",
       "    </tr>\n",
       "    <tr>\n",
       "      <th>2</th>\n",
       "      <td>1476547</td>\n",
       "      <td>83095</td>\n",
       "      <td>132725</td>\n",
       "      <td>bicycle</td>\n",
       "      <td>Bareburger</td>\n",
       "      <td>Burger</td>\n",
       "      <td>Bare Sodas</td>\n",
       "      <td>1.0</td>\n",
       "      <td>Drinks</td>\n",
       "      <td>00:06:44.541717</td>\n",
       "      <td>40.728478</td>\n",
       "      <td>-73.998392</td>\n",
       "      <td>40.728606</td>\n",
       "      <td>-73.995143</td>\n",
       "      <td>2014-10-28 21:39:52.654394</td>\n",
       "      <td>2014-10-28 21:37:18.793405</td>\n",
       "      <td>2014-10-28 21:59:09.98481</td>\n",
       "      <td>2014-10-28 22:04:40.634962</td>\n",
       "    </tr>\n",
       "    <tr>\n",
       "      <th>3</th>\n",
       "      <td>1485494</td>\n",
       "      <td>271149</td>\n",
       "      <td>157175</td>\n",
       "      <td>bicycle</td>\n",
       "      <td>Juice Press</td>\n",
       "      <td>Juice Bar</td>\n",
       "      <td>OMG! My Favorite Juice!</td>\n",
       "      <td>1.0</td>\n",
       "      <td>Cold Pressed Juices</td>\n",
       "      <td>NaN</td>\n",
       "      <td>40.738868</td>\n",
       "      <td>-74.002747</td>\n",
       "      <td>40.751257</td>\n",
       "      <td>-74.005634</td>\n",
       "      <td>2014-10-30 10:54:11.531894</td>\n",
       "      <td>2014-10-30 11:04:17.759577</td>\n",
       "      <td>2014-10-30 11:16:37.895816</td>\n",
       "      <td>2014-10-30 11:32:38.090061</td>\n",
       "    </tr>\n",
       "    <tr>\n",
       "      <th>4</th>\n",
       "      <td>1327707</td>\n",
       "      <td>122609</td>\n",
       "      <td>118095</td>\n",
       "      <td>bicycle</td>\n",
       "      <td>Blue Ribbon Sushi</td>\n",
       "      <td>Japanese</td>\n",
       "      <td>Spicy Tuna &amp; Tempura Flakes</td>\n",
       "      <td>2.0</td>\n",
       "      <td>Maki (Special Rolls)</td>\n",
       "      <td>00:03:45.035418</td>\n",
       "      <td>40.726110</td>\n",
       "      <td>-74.002492</td>\n",
       "      <td>40.709323</td>\n",
       "      <td>-74.015867</td>\n",
       "      <td>2014-10-10 00:07:18.450505</td>\n",
       "      <td>2014-10-10 00:14:42.702223</td>\n",
       "      <td>2014-10-10 00:25:19.400294</td>\n",
       "      <td>2014-10-10 00:48:27.150595</td>\n",
       "    </tr>\n",
       "  </tbody>\n",
       "</table>\n",
       "</div>"
      ],
      "text/plain": [
       "   delivery_id  customer_id  jumpman_id vehicle_type         pickup_place  \\\n",
       "0      1457973       327168      162381          van            Melt Shop   \n",
       "1      1377056        64452      104533      bicycle  Prince Street Pizza   \n",
       "2      1476547        83095      132725      bicycle           Bareburger   \n",
       "3      1485494       271149      157175      bicycle          Juice Press   \n",
       "4      1327707       122609      118095      bicycle    Blue Ribbon Sushi   \n",
       "\n",
       "  place_category                    item_name  item_quantity  \\\n",
       "0       American                     Lemonade            1.0   \n",
       "1          Pizza        Neapolitan Rice Balls            3.0   \n",
       "2         Burger                   Bare Sodas            1.0   \n",
       "3      Juice Bar      OMG! My Favorite Juice!            1.0   \n",
       "4       Japanese  Spicy Tuna & Tempura Flakes            2.0   \n",
       "\n",
       "     item_category_name how_long_it_took_to_order  pickup_lat  pickup_lon  \\\n",
       "0             Beverages           00:19:58.582052   40.744607  -73.990742   \n",
       "1            Munchables           00:25:09.107093   40.723080  -73.994615   \n",
       "2                Drinks           00:06:44.541717   40.728478  -73.998392   \n",
       "3   Cold Pressed Juices                       NaN   40.738868  -74.002747   \n",
       "4  Maki (Special Rolls)           00:03:45.035418   40.726110  -74.002492   \n",
       "\n",
       "   dropoff_lat  dropoff_lon   when_the_delivery_started  \\\n",
       "0    40.752073   -73.985370  2014-10-26 13:51:59.898924   \n",
       "1    40.719722   -73.991858   2014-10-16 21:58:58.65491   \n",
       "2    40.728606   -73.995143  2014-10-28 21:39:52.654394   \n",
       "3    40.751257   -74.005634  2014-10-30 10:54:11.531894   \n",
       "4    40.709323   -74.015867  2014-10-10 00:07:18.450505   \n",
       "\n",
       "  when_the_Jumpman_arrived_at_pickup when_the_Jumpman_left_pickup  \\\n",
       "0                                NaN                          NaN   \n",
       "1         2014-10-16 22:26:02.120931   2014-10-16 22:48:23.091253   \n",
       "2         2014-10-28 21:37:18.793405    2014-10-28 21:59:09.98481   \n",
       "3         2014-10-30 11:04:17.759577   2014-10-30 11:16:37.895816   \n",
       "4         2014-10-10 00:14:42.702223   2014-10-10 00:25:19.400294   \n",
       "\n",
       "  when_the_Jumpman_arrived_at_dropoff  \n",
       "0          2014-10-26 14:52:06.313088  \n",
       "1          2014-10-16 22:59:22.948873  \n",
       "2          2014-10-28 22:04:40.634962  \n",
       "3          2014-10-30 11:32:38.090061  \n",
       "4          2014-10-10 00:48:27.150595  "
      ]
     },
     "execution_count": 5,
     "metadata": {},
     "output_type": "execute_result"
    }
   ],
   "source": [
    "df.head()"
   ]
  },
  {
   "cell_type": "code",
   "execution_count": 6,
   "metadata": {},
   "outputs": [
    {
     "data": {
      "text/html": [
       "<div>\n",
       "<style scoped>\n",
       "    .dataframe tbody tr th:only-of-type {\n",
       "        vertical-align: middle;\n",
       "    }\n",
       "\n",
       "    .dataframe tbody tr th {\n",
       "        vertical-align: top;\n",
       "    }\n",
       "\n",
       "    .dataframe thead th {\n",
       "        text-align: right;\n",
       "    }\n",
       "</style>\n",
       "<table border=\"1\" class=\"dataframe\">\n",
       "  <thead>\n",
       "    <tr style=\"text-align: right;\">\n",
       "      <th></th>\n",
       "      <th>delivery_id</th>\n",
       "      <th>customer_id</th>\n",
       "      <th>jumpman_id</th>\n",
       "      <th>item_quantity</th>\n",
       "      <th>pickup_lat</th>\n",
       "      <th>pickup_lon</th>\n",
       "      <th>dropoff_lat</th>\n",
       "      <th>dropoff_lon</th>\n",
       "    </tr>\n",
       "  </thead>\n",
       "  <tbody>\n",
       "    <tr>\n",
       "      <th>count</th>\n",
       "      <td>5.983000e+03</td>\n",
       "      <td>5983.000000</td>\n",
       "      <td>5983.000000</td>\n",
       "      <td>4753.000000</td>\n",
       "      <td>5983.000000</td>\n",
       "      <td>5983.000000</td>\n",
       "      <td>5983.000000</td>\n",
       "      <td>5983.000000</td>\n",
       "    </tr>\n",
       "    <tr>\n",
       "      <th>mean</th>\n",
       "      <td>1.379495e+06</td>\n",
       "      <td>176472.595521</td>\n",
       "      <td>102661.602541</td>\n",
       "      <td>1.248264</td>\n",
       "      <td>40.741425</td>\n",
       "      <td>-73.987101</td>\n",
       "      <td>40.744216</td>\n",
       "      <td>-73.985765</td>\n",
       "    </tr>\n",
       "    <tr>\n",
       "      <th>std</th>\n",
       "      <td>6.459397e+04</td>\n",
       "      <td>116414.487842</td>\n",
       "      <td>48607.211795</td>\n",
       "      <td>0.785904</td>\n",
       "      <td>0.022833</td>\n",
       "      <td>0.014896</td>\n",
       "      <td>0.025251</td>\n",
       "      <td>0.018060</td>\n",
       "    </tr>\n",
       "    <tr>\n",
       "      <th>min</th>\n",
       "      <td>1.271706e+06</td>\n",
       "      <td>242.000000</td>\n",
       "      <td>3296.000000</td>\n",
       "      <td>1.000000</td>\n",
       "      <td>40.665611</td>\n",
       "      <td>-74.015837</td>\n",
       "      <td>40.649356</td>\n",
       "      <td>-74.017679</td>\n",
       "    </tr>\n",
       "    <tr>\n",
       "      <th>25%</th>\n",
       "      <td>1.322792e+06</td>\n",
       "      <td>77817.000000</td>\n",
       "      <td>60761.000000</td>\n",
       "      <td>1.000000</td>\n",
       "      <td>40.724340</td>\n",
       "      <td>-73.996630</td>\n",
       "      <td>40.725307</td>\n",
       "      <td>-74.000297</td>\n",
       "    </tr>\n",
       "    <tr>\n",
       "      <th>50%</th>\n",
       "      <td>1.375689e+06</td>\n",
       "      <td>131093.000000</td>\n",
       "      <td>113364.000000</td>\n",
       "      <td>1.000000</td>\n",
       "      <td>40.735677</td>\n",
       "      <td>-73.988682</td>\n",
       "      <td>40.740424</td>\n",
       "      <td>-73.989280</td>\n",
       "    </tr>\n",
       "    <tr>\n",
       "      <th>75%</th>\n",
       "      <td>1.436371e+06</td>\n",
       "      <td>293381.000000</td>\n",
       "      <td>143807.000000</td>\n",
       "      <td>1.000000</td>\n",
       "      <td>40.758726</td>\n",
       "      <td>-73.980739</td>\n",
       "      <td>40.763885</td>\n",
       "      <td>-73.974696</td>\n",
       "    </tr>\n",
       "    <tr>\n",
       "      <th>max</th>\n",
       "      <td>1.491424e+06</td>\n",
       "      <td>405547.000000</td>\n",
       "      <td>181543.000000</td>\n",
       "      <td>16.000000</td>\n",
       "      <td>40.818082</td>\n",
       "      <td>-73.920980</td>\n",
       "      <td>40.848324</td>\n",
       "      <td>-73.924124</td>\n",
       "    </tr>\n",
       "  </tbody>\n",
       "</table>\n",
       "</div>"
      ],
      "text/plain": [
       "        delivery_id    customer_id     jumpman_id  item_quantity   pickup_lat  \\\n",
       "count  5.983000e+03    5983.000000    5983.000000    4753.000000  5983.000000   \n",
       "mean   1.379495e+06  176472.595521  102661.602541       1.248264    40.741425   \n",
       "std    6.459397e+04  116414.487842   48607.211795       0.785904     0.022833   \n",
       "min    1.271706e+06     242.000000    3296.000000       1.000000    40.665611   \n",
       "25%    1.322792e+06   77817.000000   60761.000000       1.000000    40.724340   \n",
       "50%    1.375689e+06  131093.000000  113364.000000       1.000000    40.735677   \n",
       "75%    1.436371e+06  293381.000000  143807.000000       1.000000    40.758726   \n",
       "max    1.491424e+06  405547.000000  181543.000000      16.000000    40.818082   \n",
       "\n",
       "        pickup_lon  dropoff_lat  dropoff_lon  \n",
       "count  5983.000000  5983.000000  5983.000000  \n",
       "mean    -73.987101    40.744216   -73.985765  \n",
       "std       0.014896     0.025251     0.018060  \n",
       "min     -74.015837    40.649356   -74.017679  \n",
       "25%     -73.996630    40.725307   -74.000297  \n",
       "50%     -73.988682    40.740424   -73.989280  \n",
       "75%     -73.980739    40.763885   -73.974696  \n",
       "max     -73.920980    40.848324   -73.924124  "
      ]
     },
     "execution_count": 6,
     "metadata": {},
     "output_type": "execute_result"
    }
   ],
   "source": [
    "df.describe()"
   ]
  },
  {
   "cell_type": "code",
   "execution_count": 7,
   "metadata": {},
   "outputs": [
    {
     "name": "stdout",
     "output_type": "stream",
     "text": [
      "delivery_id 5214\n",
      "customer_id 3192\n",
      "jumpman_id 578\n",
      "vehicle_type 7\n",
      "pickup_place 898\n",
      "place_category 57\n",
      "item_name 2277\n",
      "item_quantity 11\n",
      "item_category_name 767\n",
      "how_long_it_took_to_order 2579\n",
      "pickup_lat 1210\n",
      "pickup_lon 1179\n",
      "dropoff_lat 2841\n",
      "dropoff_lon 2839\n",
      "when_the_delivery_started 5214\n",
      "when_the_Jumpman_arrived_at_pickup 4719\n",
      "when_the_Jumpman_left_pickup 4717\n",
      "when_the_Jumpman_arrived_at_dropoff 5214\n"
     ]
    }
   ],
   "source": [
    "for i in df.columns:\n",
    "    print(i,df[i].nunique())"
   ]
  },
  {
   "cell_type": "code",
   "execution_count": 8,
   "metadata": {},
   "outputs": [
    {
     "name": "stdout",
     "output_type": "stream",
     "text": [
      "<class 'pandas.core.frame.DataFrame'>\n",
      "RangeIndex: 5983 entries, 0 to 5982\n",
      "Data columns (total 18 columns):\n",
      "delivery_id                            5983 non-null int64\n",
      "customer_id                            5983 non-null int64\n",
      "jumpman_id                             5983 non-null int64\n",
      "vehicle_type                           5983 non-null object\n",
      "pickup_place                           5983 non-null object\n",
      "place_category                         5100 non-null object\n",
      "item_name                              4753 non-null object\n",
      "item_quantity                          4753 non-null float64\n",
      "item_category_name                     4753 non-null object\n",
      "how_long_it_took_to_order              3038 non-null object\n",
      "pickup_lat                             5983 non-null float64\n",
      "pickup_lon                             5983 non-null float64\n",
      "dropoff_lat                            5983 non-null float64\n",
      "dropoff_lon                            5983 non-null float64\n",
      "when_the_delivery_started              5983 non-null object\n",
      "when_the_Jumpman_arrived_at_pickup     5433 non-null object\n",
      "when_the_Jumpman_left_pickup           5433 non-null object\n",
      "when_the_Jumpman_arrived_at_dropoff    5983 non-null object\n",
      "dtypes: float64(5), int64(3), object(10)\n",
      "memory usage: 841.4+ KB\n"
     ]
    }
   ],
   "source": [
    "df.info()"
   ]
  },
  {
   "cell_type": "code",
   "execution_count": 9,
   "metadata": {},
   "outputs": [],
   "source": [
    "df['when_the_delivery_started'] = df['when_the_delivery_started'].apply(lambda x: datetime.strptime(x,'%Y-%m-%d %H:%M:%S.%f'))\n",
    "\n"
   ]
  },
  {
   "cell_type": "code",
   "execution_count": 10,
   "metadata": {},
   "outputs": [],
   "source": [
    "df['delivery_start_hour'] = df['when_the_delivery_started'].dt.hour"
   ]
  },
  {
   "cell_type": "code",
   "execution_count": 11,
   "metadata": {},
   "outputs": [
    {
     "data": {
      "text/plain": [
       "(array([ 73.,  40.,  22.,   7.,   6.,   0.,   2.,  20.,  31.,  88., 165.,\n",
       "        323., 411., 318., 265., 253., 289., 457., 751., 940., 715., 454.,\n",
       "        353.]),\n",
       " array([ 0.,  1.,  2.,  3.,  4.,  5.,  6.,  7.,  8.,  9., 10., 11., 12.,\n",
       "        13., 14., 15., 16., 17., 18., 19., 20., 21., 22., 23.]),\n",
       " <a list of 23 Patch objects>)"
      ]
     },
     "execution_count": 11,
     "metadata": {},
     "output_type": "execute_result"
    },
    {
     "data": {
      "image/png": "[encoded data removed]",
      "text/plain": [
       "<Figure size 432x288 with 1 Axes>"
      ]
     },
     "metadata": {},
     "output_type": "display_data"
    }
   ],
   "source": [
    "plt.hist(df['delivery_start_hour'],bins=df['delivery_start_hour'].max()-df['delivery_start_hour'].min(), rwidth=.7)\n"
   ]
  },
  {
   "cell_type": "code",
   "execution_count": 14,
   "metadata": {},
   "outputs": [],
   "source": [
    "df['when_the_Jumpman_arrived_at_dropoff'] = df['when_the_Jumpman_arrived_at_dropoff'].apply(lambda x: datetime.strptime(x,'%Y-%m-%d %H:%M:%S.%f'))"
   ]
  },
  {
   "cell_type": "code",
   "execution_count": 15,
   "metadata": {},
   "outputs": [],
   "source": [
    "df['time_to_deliver'] = df['when_the_Jumpman_arrived_at_dropoff'] - df['when_the_delivery_started'] "
   ]
  },
  {
   "cell_type": "code",
   "execution_count": 16,
   "metadata": {},
   "outputs": [],
   "source": [
    "df['time_to_deliver'] = df['time_to_deliver'].apply(lambda x: round(x/np.timedelta64(1,'m')))"
   ]
  },
  {
   "cell_type": "code",
   "execution_count": 17,
   "metadata": {},
   "outputs": [
    {
     "data": {
      "text/plain": [
       "340"
      ]
     },
     "execution_count": 17,
     "metadata": {},
     "output_type": "execute_result"
    }
   ],
   "source": [
    "df['time_to_deliver'].max()"
   ]
  },
  {
   "cell_type": "code",
   "execution_count": 18,
   "metadata": {
    "scrolled": true
   },
   "outputs": [
    {
     "data": {
      "text/plain": [
       "(array([  1.,   2.,   0.,   0.,   1.,   4.,   3.,   2.,   9.,   9.,   7.,\n",
       "          9.,  12.,  21.,  36.,  39.,  34.,  50.,  81.,  60.,  66.,  58.,\n",
       "         95., 100., 115., 119., 122., 125., 140., 158., 155., 168., 130.,\n",
       "        144., 140., 146., 151., 158., 148., 154., 141., 136., 132., 137.,\n",
       "        111., 155., 115., 119.,  97., 114., 104.,  92.,  96., 104.,  86.,\n",
       "         85.,  70.,  79.,  49.,  60.,  42.,  31.,  57.,  56.,  55.,  29.,\n",
       "         35.,  33.,  34.,  31.,  30.,  19.,  37.,  21.,  31.,  24.,  19.,\n",
       "         12.,  16.,  11.,  13.,  12.,  22.,  22.,  18.,   9.,  20.,   8.,\n",
       "          9.,  14.,   8.,  12.,   7.,   3.,   7.,   6.,   7.,   8.,   3.,\n",
       "          3.,   6.,   0.,   3.,   0.,   3.,   5.,   4.,   4.,   2.,   4.,\n",
       "          3.,   2.,   7.,   0.,   0.,   2.,   6.,   0.,   1.,   6.,   1.,\n",
       "          1.,   0.,   2.,   0.,   2.,   0.,   1.,   2.,   0.,   1.,   0.,\n",
       "          2.,   0.,   0.,   0.,   0.,   6.,   0.,   0.,   1.,   1.,   0.,\n",
       "          1.,   1.,   0.,   0.,   0.,   0.,   0.,   0.,   0.,   0.,   4.,\n",
       "          0.,   0.,   0.,   1.,   0.,   0.,   3.,   0.,   0.,   1.,   0.,\n",
       "          0.,   0.,   0.,   0.,   0.,   0.,   0.,   0.,   0.,   0.,   0.,\n",
       "          0.,   0.,   0.,   0.,   0.,   0.,   0.,   0.,   0.,   0.,   0.,\n",
       "          0.,   0.,   0.,   2.,   0.,   0.,   0.,   0.,   0.,   1.,   0.,\n",
       "          0.,   0.,   0.,   0.,   1.,   0.,   0.,   0.,   0.,   0.,   1.,\n",
       "          0.,   0.,   0.,   0.,   0.,   0.,   0.,   0.,   0.,   0.,   0.,\n",
       "          0.,   0.,   0.,   0.,   0.,   0.,   0.,   0.,   0.,   0.,   0.,\n",
       "          0.,   0.,   0.,   0.,   0.,   0.,   0.,   0.,   0.,   0.,   0.,\n",
       "          0.,   0.,   0.,   0.,   0.,   0.,   0.,   0.,   0.,   0.,   0.,\n",
       "          0.,   0.,   0.,   0.,   0.,   0.,   0.,   0.,   0.,   0.,   0.,\n",
       "          0.,   0.,   0.,   0.,   0.,   0.,   0.,   0.,   0.,   0.,   0.,\n",
       "          0.,   0.,   0.,   0.,   0.,   0.,   0.,   0.,   0.,   0.,   0.,\n",
       "          0.,   0.,   0.,   0.,   0.,   0.,   0.,   0.,   0.,   0.,   0.,\n",
       "          0.,   0.,   0.,   0.,   0.,   0.,   0.,   0.,   0.,   0.,   0.,\n",
       "          0.,   0.,   0.,   0.,   0.,   0.,   0.,   0.,   0.,   0.,   0.,\n",
       "          0.,   0.,   0.,   0.,   0.,   0.,   0.,   0.,   0.,   0.,   0.,\n",
       "          0.,   0.,   0.,   0.,   0.,   0.,   1.]),\n",
       " array([  3.,   4.,   5.,   6.,   7.,   8.,   9.,  10.,  11.,  12.,  13.,\n",
       "         14.,  15.,  16.,  17.,  18.,  19.,  20.,  21.,  22.,  23.,  24.,\n",
       "         25.,  26.,  27.,  28.,  29.,  30.,  31.,  32.,  33.,  34.,  35.,\n",
       "         36.,  37.,  38.,  39.,  40.,  41.,  42.,  43.,  44.,  45.,  46.,\n",
       "         47.,  48.,  49.,  50.,  51.,  52.,  53.,  54.,  55.,  56.,  57.,\n",
       "         58.,  59.,  60.,  61.,  62.,  63.,  64.,  65.,  66.,  67.,  68.,\n",
       "         69.,  70.,  71.,  72.,  73.,  74.,  75.,  76.,  77.,  78.,  79.,\n",
       "         80.,  81.,  82.,  83.,  84.,  85.,  86.,  87.,  88.,  89.,  90.,\n",
       "         91.,  92.,  93.,  94.,  95.,  96.,  97.,  98.,  99., 100., 101.,\n",
       "        102., 103., 104., 105., 106., 107., 108., 109., 110., 111., 112.,\n",
       "        113., 114., 115., 116., 117., 118., 119., 120., 121., 122., 123.,\n",
       "        124., 125., 126., 127., 128., 129., 130., 131., 132., 133., 134.,\n",
       "        135., 136., 137., 138., 139., 140., 141., 142., 143., 144., 145.,\n",
       "        146., 147., 148., 149., 150., 151., 152., 153., 154., 155., 156.,\n",
       "        157., 158., 159., 160., 161., 162., 163., 164., 165., 166., 167.,\n",
       "        168., 169., 170., 171., 172., 173., 174., 175., 176., 177., 178.,\n",
       "        179., 180., 181., 182., 183., 184., 185., 186., 187., 188., 189.,\n",
       "        190., 191., 192., 193., 194., 195., 196., 197., 198., 199., 200.,\n",
       "        201., 202., 203., 204., 205., 206., 207., 208., 209., 210., 211.,\n",
       "        212., 213., 214., 215., 216., 217., 218., 219., 220., 221., 222.,\n",
       "        223., 224., 225., 226., 227., 228., 229., 230., 231., 232., 233.,\n",
       "        234., 235., 236., 237., 238., 239., 240., 241., 242., 243., 244.,\n",
       "        245., 246., 247., 248., 249., 250., 251., 252., 253., 254., 255.,\n",
       "        256., 257., 258., 259., 260., 261., 262., 263., 264., 265., 266.,\n",
       "        267., 268., 269., 270., 271., 272., 273., 274., 275., 276., 277.,\n",
       "        278., 279., 280., 281., 282., 283., 284., 285., 286., 287., 288.,\n",
       "        289., 290., 291., 292., 293., 294., 295., 296., 297., 298., 299.,\n",
       "        300., 301., 302., 303., 304., 305., 306., 307., 308., 309., 310.,\n",
       "        311., 312., 313., 314., 315., 316., 317., 318., 319., 320., 321.,\n",
       "        322., 323., 324., 325., 326., 327., 328., 329., 330., 331., 332.,\n",
       "        333., 334., 335., 336., 337., 338., 339., 340.]),\n",
       " <a list of 337 Patch objects>)"
      ]
     },
     "execution_count": 18,
     "metadata": {},
     "output_type": "execute_result"
    },
    {
     "data": {
      "image/png": "[encoded data removed]",
      "text/plain": [
       "<Figure size 432x288 with 1 Axes>"
      ]
     },
     "metadata": {},
     "output_type": "display_data"
    }
   ],
   "source": [
    "plt.hist(df['time_to_deliver'],bins=df['time_to_deliver'].max()-df['time_to_deliver'].min(), rwidth=.7)\n"
   ]
  },
  {
   "cell_type": "code",
   "execution_count": 19,
   "metadata": {},
   "outputs": [],
   "source": [
    "delivery_start_hour = df.groupby('delivery_start_hour',as_index=False).agg({'time_to_deliver': ['median', 'mean']})"
   ]
  },
  {
   "cell_type": "code",
   "execution_count": 20,
   "metadata": {},
   "outputs": [
    {
     "data": {
      "text/html": [
       "<div>\n",
       "<style scoped>\n",
       "    .dataframe tbody tr th:only-of-type {\n",
       "        vertical-align: middle;\n",
       "    }\n",
       "\n",
       "    .dataframe tbody tr th {\n",
       "        vertical-align: top;\n",
       "    }\n",
       "\n",
       "    .dataframe thead tr th {\n",
       "        text-align: left;\n",
       "    }\n",
       "</style>\n",
       "<table border=\"1\" class=\"dataframe\">\n",
       "  <thead>\n",
       "    <tr>\n",
       "      <th></th>\n",
       "      <th>delivery_start_hour</th>\n",
       "      <th colspan=\"2\" halign=\"left\">time_to_deliver</th>\n",
       "    </tr>\n",
       "    <tr>\n",
       "      <th></th>\n",
       "      <th></th>\n",
       "      <th>median</th>\n",
       "      <th>mean</th>\n",
       "    </tr>\n",
       "  </thead>\n",
       "  <tbody>\n",
       "    <tr>\n",
       "      <th>0</th>\n",
       "      <td>0</td>\n",
       "      <td>36.0</td>\n",
       "      <td>36.356164</td>\n",
       "    </tr>\n",
       "    <tr>\n",
       "      <th>1</th>\n",
       "      <td>1</td>\n",
       "      <td>41.0</td>\n",
       "      <td>42.175000</td>\n",
       "    </tr>\n",
       "    <tr>\n",
       "      <th>2</th>\n",
       "      <td>2</td>\n",
       "      <td>40.5</td>\n",
       "      <td>41.727273</td>\n",
       "    </tr>\n",
       "    <tr>\n",
       "      <th>3</th>\n",
       "      <td>3</td>\n",
       "      <td>43.0</td>\n",
       "      <td>43.714286</td>\n",
       "    </tr>\n",
       "    <tr>\n",
       "      <th>4</th>\n",
       "      <td>4</td>\n",
       "      <td>60.5</td>\n",
       "      <td>64.833333</td>\n",
       "    </tr>\n",
       "  </tbody>\n",
       "</table>\n",
       "</div>"
      ],
      "text/plain": [
       "  delivery_start_hour time_to_deliver           \n",
       "                               median       mean\n",
       "0                   0            36.0  36.356164\n",
       "1                   1            41.0  42.175000\n",
       "2                   2            40.5  41.727273\n",
       "3                   3            43.0  43.714286\n",
       "4                   4            60.5  64.833333"
      ]
     },
     "execution_count": 20,
     "metadata": {},
     "output_type": "execute_result"
    }
   ],
   "source": [
    "delivery_start_hour.head()"
   ]
  },
  {
   "cell_type": "code",
   "execution_count": 21,
   "metadata": {},
   "outputs": [
    {
     "data": {
      "text/plain": [
       "<BarContainer object of 23 artists>"
      ]
     },
     "execution_count": 21,
     "metadata": {},
     "output_type": "execute_result"
    },
    {
     "data": {
      "image/png": "[encoded data removed]",
      "text/plain": [
       "<Figure size 432x288 with 1 Axes>"
      ]
     },
     "metadata": {},
     "output_type": "display_data"
    }
   ],
   "source": [
    "plt.bar(delivery_start_hour['delivery_start_hour'], delivery_start_hour['time_to_deliver']['median'])"
   ]
  },
  {
   "cell_type": "code",
   "execution_count": 22,
   "metadata": {},
   "outputs": [],
   "source": [
    "f = lambda x: np.nan if pd.isnull(x) else round(pd.to_timedelta(x).total_seconds()/60)"
   ]
  },
  {
   "cell_type": "code",
   "execution_count": 23,
   "metadata": {},
   "outputs": [],
   "source": [
    "df['how_long_it_took_to_order'] = df['how_long_it_took_to_order'].apply(lambda x: f(x))\n",
    "\n"
   ]
  },
  {
   "cell_type": "code",
   "execution_count": 24,
   "metadata": {},
   "outputs": [
    {
     "data": {
      "text/plain": [
       "0    20.0\n",
       "1    25.0\n",
       "2     7.0\n",
       "3     NaN\n",
       "4     4.0\n",
       "Name: how_long_it_took_to_order, dtype: float64"
      ]
     },
     "execution_count": 24,
     "metadata": {},
     "output_type": "execute_result"
    }
   ],
   "source": [
    "df['how_long_it_took_to_order'].head()"
   ]
  },
  {
   "cell_type": "code",
   "execution_count": 25,
   "metadata": {},
   "outputs": [
    {
     "data": {
      "text/plain": [
       "72.0"
      ]
     },
     "execution_count": 25,
     "metadata": {},
     "output_type": "execute_result"
    }
   ],
   "source": [
    "df['how_long_it_took_to_order'].max()-df['how_long_it_took_to_order'].min()"
   ]
  },
  {
   "cell_type": "code",
   "execution_count": 26,
   "metadata": {},
   "outputs": [
    {
     "data": {
      "text/plain": [
       "6.0"
      ]
     },
     "execution_count": 26,
     "metadata": {},
     "output_type": "execute_result"
    }
   ],
   "source": [
    "df['how_long_it_took_to_order'].median()"
   ]
  },
  {
   "cell_type": "code",
   "execution_count": 27,
   "metadata": {
    "scrolled": true
   },
   "outputs": [
    {
     "data": {
      "text/plain": [
       "(array([  2., 102., 308., 375., 422., 387., 317., 252., 148., 149., 111.,\n",
       "         75.,  45.,  53.,  45.,  38.,  27.,  27.,  27.,  16.,  15.,  18.,\n",
       "         13.,   8.,   8.,   6.,  12.,   2.,   1.,   5.,   4.,   5.,   1.,\n",
       "          0.,   2.,   1.,   1.,   2.,   0.,   0.,   0.,   1.,   0.,   0.,\n",
       "          0.,   1.,   1.,   1.,   0.,   0.,   0.,   0.,   0.,   0.,   0.,\n",
       "          0.,   0.,   1.,   0.,   0.,   0.,   0.,   0.,   1.,   0.,   0.,\n",
       "          0.,   0.,   0.,   0.,   0.,   2.]),\n",
       " array([ 1.,  2.,  3.,  4.,  5.,  6.,  7.,  8.,  9., 10., 11., 12., 13.,\n",
       "        14., 15., 16., 17., 18., 19., 20., 21., 22., 23., 24., 25., 26.,\n",
       "        27., 28., 29., 30., 31., 32., 33., 34., 35., 36., 37., 38., 39.,\n",
       "        40., 41., 42., 43., 44., 45., 46., 47., 48., 49., 50., 51., 52.,\n",
       "        53., 54., 55., 56., 57., 58., 59., 60., 61., 62., 63., 64., 65.,\n",
       "        66., 67., 68., 69., 70., 71., 72., 73.]),\n",
       " <a list of 72 Patch objects>)"
      ]
     },
     "execution_count": 27,
     "metadata": {},
     "output_type": "execute_result"
    },
    {
     "data": {
      "image/png": "[encoded data removed]",
      "text/plain": [
       "<Figure size 432x288 with 1 Axes>"
      ]
     },
     "metadata": {},
     "output_type": "display_data"
    }
   ],
   "source": [
    "plt.hist(df[pd.notnull(df['how_long_it_took_to_order'])]['how_long_it_took_to_order'],bins=72, rwidth=.7)\n",
    "# round(df_time_to_order['how_long_it_took_to_order'].max()-df_time_to_order['how_long_it_took_to_order'].min())\n",
    "\n"
   ]
  },
  {
   "cell_type": "code",
   "execution_count": 28,
   "metadata": {
    "scrolled": true
   },
   "outputs": [
    {
     "data": {
      "text/html": [
       "<div>\n",
       "<style scoped>\n",
       "    .dataframe tbody tr th:only-of-type {\n",
       "        vertical-align: middle;\n",
       "    }\n",
       "\n",
       "    .dataframe tbody tr th {\n",
       "        vertical-align: top;\n",
       "    }\n",
       "\n",
       "    .dataframe thead tr th {\n",
       "        text-align: left;\n",
       "    }\n",
       "\n",
       "    .dataframe thead tr:last-of-type th {\n",
       "        text-align: right;\n",
       "    }\n",
       "</style>\n",
       "<table border=\"1\" class=\"dataframe\">\n",
       "  <thead>\n",
       "    <tr>\n",
       "      <th></th>\n",
       "      <th colspan=\"2\" halign=\"left\">time_to_deliver</th>\n",
       "    </tr>\n",
       "    <tr>\n",
       "      <th></th>\n",
       "      <th>median</th>\n",
       "      <th>mean</th>\n",
       "    </tr>\n",
       "    <tr>\n",
       "      <th>vehicle_type</th>\n",
       "      <th></th>\n",
       "      <th></th>\n",
       "    </tr>\n",
       "  </thead>\n",
       "  <tbody>\n",
       "    <tr>\n",
       "      <th>bicycle</th>\n",
       "      <td>41.0</td>\n",
       "      <td>44.013804</td>\n",
       "    </tr>\n",
       "    <tr>\n",
       "      <th>car</th>\n",
       "      <td>48.0</td>\n",
       "      <td>52.023868</td>\n",
       "    </tr>\n",
       "    <tr>\n",
       "      <th>motorcycle</th>\n",
       "      <td>44.0</td>\n",
       "      <td>47.190476</td>\n",
       "    </tr>\n",
       "    <tr>\n",
       "      <th>scooter</th>\n",
       "      <td>45.0</td>\n",
       "      <td>47.320000</td>\n",
       "    </tr>\n",
       "    <tr>\n",
       "      <th>truck</th>\n",
       "      <td>63.0</td>\n",
       "      <td>65.791667</td>\n",
       "    </tr>\n",
       "    <tr>\n",
       "      <th>van</th>\n",
       "      <td>47.5</td>\n",
       "      <td>50.381579</td>\n",
       "    </tr>\n",
       "    <tr>\n",
       "      <th>walker</th>\n",
       "      <td>45.0</td>\n",
       "      <td>46.806569</td>\n",
       "    </tr>\n",
       "  </tbody>\n",
       "</table>\n",
       "</div>"
      ],
      "text/plain": [
       "             time_to_deliver           \n",
       "                      median       mean\n",
       "vehicle_type                           \n",
       "bicycle                 41.0  44.013804\n",
       "car                     48.0  52.023868\n",
       "motorcycle              44.0  47.190476\n",
       "scooter                 45.0  47.320000\n",
       "truck                   63.0  65.791667\n",
       "van                     47.5  50.381579\n",
       "walker                  45.0  46.806569"
      ]
     },
     "execution_count": 28,
     "metadata": {},
     "output_type": "execute_result"
    }
   ],
   "source": [
    "df.groupby('vehicle_type').agg({'time_to_deliver': ['median', 'mean']})"
   ]
  },
  {
   "cell_type": "code",
   "execution_count": 30,
   "metadata": {},
   "outputs": [],
   "source": [
    "search = SearchEngine(simple_zipcode=True) # set simple_zipcode=False to use rich info database\n"
   ]
  },
  {
   "cell_type": "code",
   "execution_count": 31,
   "metadata": {},
   "outputs": [],
   "source": [
    "f = lambda x, y : search.by_coordinates(lat=x, lng=y, returns=1)[0].to_dict()['zipcode']"
   ]
  },
  {
   "cell_type": "code",
   "execution_count": 32,
   "metadata": {},
   "outputs": [],
   "source": [
    "df['pickup_zipcode'] = df[['pickup_lat','pickup_lon']].apply(lambda x : f(*x), axis=1)\n"
   ]
  },
  {
   "cell_type": "code",
   "execution_count": 33,
   "metadata": {},
   "outputs": [],
   "source": [
    "df['dropoff_zipcode'] = df[['dropoff_lat','dropoff_lon']].apply(lambda x : f(*x), axis=1)\n"
   ]
  },
  {
   "cell_type": "code",
   "execution_count": 34,
   "metadata": {
    "scrolled": true
   },
   "outputs": [
    {
     "data": {
      "text/html": [
       "<div>\n",
       "<style scoped>\n",
       "    .dataframe tbody tr th:only-of-type {\n",
       "        vertical-align: middle;\n",
       "    }\n",
       "\n",
       "    .dataframe tbody tr th {\n",
       "        vertical-align: top;\n",
       "    }\n",
       "\n",
       "    .dataframe thead tr th {\n",
       "        text-align: left;\n",
       "    }\n",
       "</style>\n",
       "<table border=\"1\" class=\"dataframe\">\n",
       "  <thead>\n",
       "    <tr>\n",
       "      <th></th>\n",
       "      <th>pickup_zipcode</th>\n",
       "      <th colspan=\"4\" halign=\"left\">time_to_deliver</th>\n",
       "    </tr>\n",
       "    <tr>\n",
       "      <th></th>\n",
       "      <th></th>\n",
       "      <th>median</th>\n",
       "      <th>mean</th>\n",
       "      <th>count</th>\n",
       "      <th>nunique</th>\n",
       "    </tr>\n",
       "  </thead>\n",
       "  <tbody>\n",
       "    <tr>\n",
       "      <th>0</th>\n",
       "      <td>10001</td>\n",
       "      <td>45.0</td>\n",
       "      <td>47.497093</td>\n",
       "      <td>344</td>\n",
       "      <td>76</td>\n",
       "    </tr>\n",
       "    <tr>\n",
       "      <th>1</th>\n",
       "      <td>10002</td>\n",
       "      <td>42.5</td>\n",
       "      <td>46.818533</td>\n",
       "      <td>518</td>\n",
       "      <td>92</td>\n",
       "    </tr>\n",
       "    <tr>\n",
       "      <th>2</th>\n",
       "      <td>10003</td>\n",
       "      <td>41.0</td>\n",
       "      <td>44.074648</td>\n",
       "      <td>710</td>\n",
       "      <td>88</td>\n",
       "    </tr>\n",
       "    <tr>\n",
       "      <th>3</th>\n",
       "      <td>10005</td>\n",
       "      <td>28.0</td>\n",
       "      <td>31.800000</td>\n",
       "      <td>5</td>\n",
       "      <td>5</td>\n",
       "    </tr>\n",
       "    <tr>\n",
       "      <th>4</th>\n",
       "      <td>10006</td>\n",
       "      <td>96.5</td>\n",
       "      <td>96.500000</td>\n",
       "      <td>2</td>\n",
       "      <td>2</td>\n",
       "    </tr>\n",
       "  </tbody>\n",
       "</table>\n",
       "</div>"
      ],
      "text/plain": [
       "  pickup_zipcode time_to_deliver                         \n",
       "                          median       mean count nunique\n",
       "0          10001            45.0  47.497093   344      76\n",
       "1          10002            42.5  46.818533   518      92\n",
       "2          10003            41.0  44.074648   710      88\n",
       "3          10005            28.0  31.800000     5       5\n",
       "4          10006            96.5  96.500000     2       2"
      ]
     },
     "execution_count": 34,
     "metadata": {},
     "output_type": "execute_result"
    }
   ],
   "source": [
    "df.groupby('pickup_zipcode',as_index=False).agg({'time_to_deliver': ['median', 'mean', 'count', 'nunique']},).head()"
   ]
  },
  {
   "cell_type": "code",
   "execution_count": 35,
   "metadata": {},
   "outputs": [
    {
     "data": {
      "text/html": [
       "<div>\n",
       "<style scoped>\n",
       "    .dataframe tbody tr th:only-of-type {\n",
       "        vertical-align: middle;\n",
       "    }\n",
       "\n",
       "    .dataframe tbody tr th {\n",
       "        vertical-align: top;\n",
       "    }\n",
       "\n",
       "    .dataframe thead tr th {\n",
       "        text-align: left;\n",
       "    }\n",
       "</style>\n",
       "<table border=\"1\" class=\"dataframe\">\n",
       "  <thead>\n",
       "    <tr>\n",
       "      <th></th>\n",
       "      <th>dropoff_zipcode</th>\n",
       "      <th colspan=\"4\" halign=\"left\">time_to_deliver</th>\n",
       "    </tr>\n",
       "    <tr>\n",
       "      <th></th>\n",
       "      <th></th>\n",
       "      <th>median</th>\n",
       "      <th>mean</th>\n",
       "      <th>count</th>\n",
       "      <th>nunique</th>\n",
       "    </tr>\n",
       "  </thead>\n",
       "  <tbody>\n",
       "    <tr>\n",
       "      <th>0</th>\n",
       "      <td>10001</td>\n",
       "      <td>41.0</td>\n",
       "      <td>43.016667</td>\n",
       "      <td>360</td>\n",
       "      <td>68</td>\n",
       "    </tr>\n",
       "    <tr>\n",
       "      <th>1</th>\n",
       "      <td>10002</td>\n",
       "      <td>40.0</td>\n",
       "      <td>43.695817</td>\n",
       "      <td>263</td>\n",
       "      <td>74</td>\n",
       "    </tr>\n",
       "    <tr>\n",
       "      <th>2</th>\n",
       "      <td>10003</td>\n",
       "      <td>39.0</td>\n",
       "      <td>42.529865</td>\n",
       "      <td>519</td>\n",
       "      <td>78</td>\n",
       "    </tr>\n",
       "    <tr>\n",
       "      <th>3</th>\n",
       "      <td>10005</td>\n",
       "      <td>48.0</td>\n",
       "      <td>47.800000</td>\n",
       "      <td>35</td>\n",
       "      <td>21</td>\n",
       "    </tr>\n",
       "    <tr>\n",
       "      <th>4</th>\n",
       "      <td>10006</td>\n",
       "      <td>61.0</td>\n",
       "      <td>63.603774</td>\n",
       "      <td>53</td>\n",
       "      <td>33</td>\n",
       "    </tr>\n",
       "  </tbody>\n",
       "</table>\n",
       "</div>"
      ],
      "text/plain": [
       "  dropoff_zipcode time_to_deliver                         \n",
       "                           median       mean count nunique\n",
       "0           10001            41.0  43.016667   360      68\n",
       "1           10002            40.0  43.695817   263      74\n",
       "2           10003            39.0  42.529865   519      78\n",
       "3           10005            48.0  47.800000    35      21\n",
       "4           10006            61.0  63.603774    53      33"
      ]
     },
     "execution_count": 35,
     "metadata": {},
     "output_type": "execute_result"
    }
   ],
   "source": [
    "df.groupby('dropoff_zipcode',as_index=False).agg({'time_to_deliver': ['median', 'mean', 'count', 'nunique']},).head()"
   ]
  },
  {
   "cell_type": "code",
   "execution_count": 41,
   "metadata": {},
   "outputs": [],
   "source": [
    "f = lambda a,b,c,d : geodesic((a,b), (c,d)).miles"
   ]
  },
  {
   "cell_type": "code",
   "execution_count": 42,
   "metadata": {},
   "outputs": [],
   "source": [
    "df['distance'] = df[['pickup_lat','pickup_lon', 'dropoff_lat', 'dropoff_lon']].apply(lambda x : f(*x), axis=1)"
   ]
  },
  {
   "cell_type": "code",
   "execution_count": 43,
   "metadata": {},
   "outputs": [],
   "source": [
    "df['distance_rounded'] = round(df['distance'],1)"
   ]
  },
  {
   "cell_type": "code",
   "execution_count": 44,
   "metadata": {
    "scrolled": true
   },
   "outputs": [
    {
     "data": {
      "text/plain": [
       "(array([1565., 3013.,  862.,  311.,  140.,   64.,   21.,    7.]),\n",
       " array([0., 1., 2., 3., 4., 5., 6., 7., 8.]),\n",
       " <a list of 8 Patch objects>)"
      ]
     },
     "execution_count": 44,
     "metadata": {},
     "output_type": "execute_result"
    },
    {
     "data": {
      "image/png": "[encoded data removed]",
      "text/plain": [
       "<Figure size 432x288 with 1 Axes>"
      ]
     },
     "metadata": {},
     "output_type": "display_data"
    }
   ],
   "source": [
    "plt.hist(round(df['distance']),bins=int(round(df['distance']).max()-round(df['distance']).min()), rwidth=.7)\n"
   ]
  },
  {
   "cell_type": "code",
   "execution_count": 45,
   "metadata": {},
   "outputs": [],
   "source": [
    "df['distance_rounded'] = round(df['distance'])"
   ]
  },
  {
   "cell_type": "code",
   "execution_count": 46,
   "metadata": {},
   "outputs": [],
   "source": [
    "distance_rounded = df.groupby('distance_rounded',as_index=False).agg({'time_to_deliver': ['count','median', 'mean']})"
   ]
  },
  {
   "cell_type": "code",
   "execution_count": 47,
   "metadata": {},
   "outputs": [
    {
     "data": {
      "text/html": [
       "<div>\n",
       "<style scoped>\n",
       "    .dataframe tbody tr th:only-of-type {\n",
       "        vertical-align: middle;\n",
       "    }\n",
       "\n",
       "    .dataframe tbody tr th {\n",
       "        vertical-align: top;\n",
       "    }\n",
       "\n",
       "    .dataframe thead tr th {\n",
       "        text-align: left;\n",
       "    }\n",
       "</style>\n",
       "<table border=\"1\" class=\"dataframe\">\n",
       "  <thead>\n",
       "    <tr>\n",
       "      <th></th>\n",
       "      <th>distance_rounded</th>\n",
       "      <th colspan=\"3\" halign=\"left\">time_to_deliver</th>\n",
       "    </tr>\n",
       "    <tr>\n",
       "      <th></th>\n",
       "      <th></th>\n",
       "      <th>count</th>\n",
       "      <th>median</th>\n",
       "      <th>mean</th>\n",
       "    </tr>\n",
       "  </thead>\n",
       "  <tbody>\n",
       "    <tr>\n",
       "      <th>0</th>\n",
       "      <td>0.0</td>\n",
       "      <td>1565</td>\n",
       "      <td>34.0</td>\n",
       "      <td>37.534185</td>\n",
       "    </tr>\n",
       "    <tr>\n",
       "      <th>1</th>\n",
       "      <td>1.0</td>\n",
       "      <td>3013</td>\n",
       "      <td>42.0</td>\n",
       "      <td>44.989047</td>\n",
       "    </tr>\n",
       "    <tr>\n",
       "      <th>2</th>\n",
       "      <td>2.0</td>\n",
       "      <td>862</td>\n",
       "      <td>51.0</td>\n",
       "      <td>53.733179</td>\n",
       "    </tr>\n",
       "    <tr>\n",
       "      <th>3</th>\n",
       "      <td>3.0</td>\n",
       "      <td>311</td>\n",
       "      <td>59.0</td>\n",
       "      <td>62.086817</td>\n",
       "    </tr>\n",
       "    <tr>\n",
       "      <th>4</th>\n",
       "      <td>4.0</td>\n",
       "      <td>140</td>\n",
       "      <td>58.0</td>\n",
       "      <td>63.685714</td>\n",
       "    </tr>\n",
       "    <tr>\n",
       "      <th>5</th>\n",
       "      <td>5.0</td>\n",
       "      <td>64</td>\n",
       "      <td>71.5</td>\n",
       "      <td>72.406250</td>\n",
       "    </tr>\n",
       "    <tr>\n",
       "      <th>6</th>\n",
       "      <td>6.0</td>\n",
       "      <td>21</td>\n",
       "      <td>73.0</td>\n",
       "      <td>72.619048</td>\n",
       "    </tr>\n",
       "    <tr>\n",
       "      <th>7</th>\n",
       "      <td>7.0</td>\n",
       "      <td>5</td>\n",
       "      <td>85.0</td>\n",
       "      <td>91.400000</td>\n",
       "    </tr>\n",
       "    <tr>\n",
       "      <th>8</th>\n",
       "      <td>8.0</td>\n",
       "      <td>2</td>\n",
       "      <td>112.0</td>\n",
       "      <td>112.000000</td>\n",
       "    </tr>\n",
       "  </tbody>\n",
       "</table>\n",
       "</div>"
      ],
      "text/plain": [
       "  distance_rounded time_to_deliver                   \n",
       "                             count median        mean\n",
       "0              0.0            1565   34.0   37.534185\n",
       "1              1.0            3013   42.0   44.989047\n",
       "2              2.0             862   51.0   53.733179\n",
       "3              3.0             311   59.0   62.086817\n",
       "4              4.0             140   58.0   63.685714\n",
       "5              5.0              64   71.5   72.406250\n",
       "6              6.0              21   73.0   72.619048\n",
       "7              7.0               5   85.0   91.400000\n",
       "8              8.0               2  112.0  112.000000"
      ]
     },
     "execution_count": 47,
     "metadata": {},
     "output_type": "execute_result"
    }
   ],
   "source": [
    "distance_rounded"
   ]
  },
  {
   "cell_type": "code",
   "execution_count": 48,
   "metadata": {},
   "outputs": [
    {
     "data": {
      "text/plain": [
       "<BarContainer object of 9 artists>"
      ]
     },
     "execution_count": 48,
     "metadata": {},
     "output_type": "execute_result"
    },
    {
     "data": {
      "image/png": "[encoded data removed]",
      "text/plain": [
       "<Figure size 432x288 with 1 Axes>"
      ]
     },
     "metadata": {},
     "output_type": "display_data"
    }
   ],
   "source": [
    "plt.bar(distance_rounded['distance_rounded'], distance_rounded['time_to_deliver']['median'])"
   ]
  },
  {
   "cell_type": "code",
   "execution_count": 49,
   "metadata": {},
   "outputs": [],
   "source": [
    "df.to_csv('analyze_me_cleaned.csv')"
   ]
  },
  {
   "cell_type": "code",
   "execution_count": null,
   "metadata": {},
   "outputs": [],
   "source": []
  }
 ],
 "metadata": {
  "kernelspec": {
   "display_name": "Python 3",
   "language": "python",
   "name": "python3"
  },
  "language_info": {
   "codemirror_mode": {
    "name": "ipython",
    "version": 3
   },
   "file_extension": ".py",
   "mimetype": "text/x-python",
   "name": "python",
   "nbconvert_exporter": "python",
   "pygments_lexer": "ipython3",
   "version": "3.6.7"
  },
  "varInspector": {
   "cols": {
    "lenName": 16,
    "lenType": 16,
    "lenVar": 40
   },
   "kernels_config": {
    "python": {
     "delete_cmd_postfix": "",
     "delete_cmd_prefix": "del ",
     "library": "var_list.py",
     "varRefreshCmd": "print(var_dic_list())"
    },
    "r": {
     "delete_cmd_postfix": ") ",
     "delete_cmd_prefix": "rm(",
     "library": "var_list.r",
     "varRefreshCmd": "cat(var_dic_list()) "
    }
   },
   "position": {
    "height": "144px",
    "left": "1069px",
    "right": "20px",
    "top": "120px",
    "width": "350px"
   },
   "types_to_exclude": [
    "module",
    "function",
    "builtin_function_or_method",
    "instance",
    "_Feature"
   ],
   "window_display": false
  }
 },
 "nbformat": 4,
 "nbformat_minor": 2
}
